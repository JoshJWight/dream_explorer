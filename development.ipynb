{
 "cells": [
  {
   "cell_type": "code",
   "execution_count": null,
   "metadata": {},
   "outputs": [],
   "source": [
    "import warnings\n",
    "import dreamerv3\n",
    "from dreamerv3 import embodied\n",
    "warnings.filterwarnings('ignore', '.*truncated to dtype int32.*')"
   ]
  },
  {
   "cell_type": "code",
   "execution_count": null,
   "metadata": {},
   "outputs": [],
   "source": [
    "# See configs.yaml for all options.\n",
    "config = embodied.Config(dreamerv3.configs['defaults'])\n",
    "config = config.update(dreamerv3.configs['medium'])\n",
    "config = config.update({\n",
    "    'logdir': '~/logdir/run1',\n",
    "    'run.train_ratio': 64,\n",
    "    'run.log_every': 30,  # Seconds\n",
    "    'batch_size': 16,\n",
    "    'jax.prealloc': False,\n",
    "    'encoder.mlp_keys': '$^',\n",
    "    'decoder.mlp_keys': '$^',\n",
    "    'encoder.cnn_keys': 'image',\n",
    "    'decoder.cnn_keys': 'image',\n",
    "    # 'jax.platform': 'cpu',\n",
    "})\n",
    "config = embodied.Flags(config).parse(argv=[])"
   ]
  },
  {
   "cell_type": "code",
   "execution_count": null,
   "metadata": {},
   "outputs": [],
   "source": [
    "logdir = embodied.Path(config.logdir)\n",
    "step = embodied.Counter()\n",
    "logger = embodied.Logger(step, [\n",
    "    embodied.logger.TerminalOutput(),\n",
    "    embodied.logger.JSONLOutput(logdir, 'metrics.jsonl'),\n",
    "    embodied.logger.TensorBoardOutput(logdir),\n",
    "    # embodied.logger.WandBOutput(logdir.name, config),\n",
    "    # embodied.logger.MLFlowOutput(logdir.name),\n",
    "])"
   ]
  },
  {
   "cell_type": "code",
   "execution_count": null,
   "metadata": {},
   "outputs": [],
   "source": [
    "import crafter\n",
    "from embodied.envs import from_gym\n",
    "env = crafter.Env()  # Replace this with your Gym env.\n",
    "env = from_gym.FromGym(env)\n",
    "env = dreamerv3.wrap_env(env, config)\n",
    "env = embodied.BatchEnv([env], parallel=False)"
   ]
  },
  {
   "cell_type": "code",
   "execution_count": null,
   "metadata": {},
   "outputs": [],
   "source": [
    "agent = dreamerv3.Agent(env.obs_space, env.act_space, step, config)\n",
    "replay = embodied.replay.Uniform(\n",
    "    config.batch_length, config.replay_size, logdir / 'replay')\n",
    "args = embodied.Config(\n",
    "    **config.run, logdir=config.logdir,\n",
    "    batch_steps=config.batch_size * config.batch_length)"
   ]
  },
  {
   "cell_type": "code",
   "execution_count": null,
   "metadata": {},
   "outputs": [],
   "source": [
    "step = logger.step\n",
    "checkpoint = embodied.Checkpoint(logdir / 'checkpoint.ckpt')\n",
    "checkpoint.step = step\n",
    "checkpoint.agent = agent\n",
    "checkpoint.replay = replay\n",
    "checkpoint.load(args.from_checkpoint)"
   ]
  },
  {
   "cell_type": "code",
   "execution_count": null,
   "metadata": {},
   "outputs": [],
   "source": [
    "print(env.obs_space)\n",
    "print(env.act_space)"
   ]
  },
  {
   "cell_type": "code",
   "execution_count": null,
   "metadata": {},
   "outputs": [],
   "source": [
    "import numpy as np\n",
    "import matplotlib.pyplot as plt\n",
    "action = np.zeros((1, 17))\n",
    "action[0, 0] = 1\n",
    "r = env.step({'reset': [True], 'action': action})\n",
    "plt.imshow(r['image'][0])"
   ]
  },
  {
   "cell_type": "code",
   "execution_count": null,
   "metadata": {},
   "outputs": [],
   "source": [
    "action = np.zeros((1, 17))\n",
    "action[0, 2] = 1\n",
    "r = env.step({'reset': [False], 'action': action})\n",
    "plt.imshow(r['image'][0])"
   ]
  },
  {
   "cell_type": "code",
   "execution_count": null,
   "metadata": {},
   "outputs": [],
   "source": [
    "state = None"
   ]
  },
  {
   "cell_type": "code",
   "execution_count": null,
   "metadata": {},
   "outputs": [],
   "source": [
    "outputs, state = agent.policy(r, state)\n",
    "\n",
    "print(outputs)\n",
    "\n",
    "r = env.step({'reset': [False], 'action': outputs['action']})\n",
    "plt.imshow(r['image'][0])"
   ]
  },
  {
   "cell_type": "code",
   "execution_count": null,
   "metadata": {},
   "outputs": [],
   "source": [
    "obs = env.step({\"action\": action, \"reset\": [False]})\n",
    "print(obs.keys())\n",
    "print(obs[\"image\"].shape)\n",
    "\n",
    "plt.imshow(obs['image'][0])"
   ]
  },
  {
   "cell_type": "code",
   "execution_count": null,
   "metadata": {},
   "outputs": [],
   "source": [
    "import dreamerv3.ninjax as nj"
   ]
  },
  {
   "cell_type": "code",
   "execution_count": null,
   "metadata": {},
   "outputs": [],
   "source": [
    "kw = dict(device=agent.policy_devices[0])\n",
    "_preprocess = nj.pure(agent.agent.preprocess)\n",
    "_preprocess = nj.jit(_preprocess, **kw)"
   ]
  },
  {
   "cell_type": "code",
   "execution_count": null,
   "metadata": {},
   "outputs": [],
   "source": [
    "print(agent.policy_devices)"
   ]
  },
  {
   "cell_type": "code",
   "execution_count": null,
   "metadata": {},
   "outputs": [],
   "source": [
    "\n",
    "obsc = agent._convert_inps(obs, agent.policy_devices)\n",
    "rng = agent._next_rngs(agent.policy_devices)\n",
    "varibs = agent.varibs if agent.single_device else agent.policy_varibs\n",
    "obsp = _preprocess(varibs, rng, obsc)\n",
    "#print(agent._convert_outs(obsp, agent.policy_devices))\n",
    "\n",
    "\n",
    "#states, _ = self.agent.agent.wm.rssm.observe(embed, data['action'], data['is_first'], self.input_state)"
   ]
  },
  {
   "cell_type": "code",
   "execution_count": null,
   "metadata": {},
   "outputs": [],
   "source": [
    "import types\n",
    "def encode(self, obs):\n",
    "    obs = self.preprocess(obs)\n",
    "    embed = self.wm.encoder(obs)\n",
    "    return embed\n",
    "agent.agent.encode = types.MethodType(encode, agent.agent)"
   ]
  },
  {
   "cell_type": "code",
   "execution_count": null,
   "metadata": {},
   "outputs": [],
   "source": [
    "_encoder = nj.pure(agent.agent.encode)\n",
    "_encoder = nj.jit(_encoder, **kw)"
   ]
  },
  {
   "cell_type": "code",
   "execution_count": null,
   "metadata": {},
   "outputs": [],
   "source": [
    "embed = _encoder(varibs, rng, obsc)\n",
    "print(agent._convert_outs(embed, agent.policy_devices))"
   ]
  },
  {
   "cell_type": "code",
   "execution_count": null,
   "metadata": {},
   "outputs": [],
   "source": [
    "import jax.numpy as jnp\n",
    "\n",
    "def env_step(self, obs, state, action):\n",
    "    if state is None:\n",
    "        state, _ = self.wm.initial(1)\n",
    "    obs = self.preprocess(obs)\n",
    "    embed = self.wm.encoder(obs)\n",
    "    context, _ = self.wm.rssm.obs_step(\n",
    "        state, action, embed, obs['is_first'])\n",
    "    #latentb = {k: jnp.expand_dims(v, 0) for k, v in context.items()}\n",
    "    return context, self.decode(context)\n",
    "\n",
    "def imag_step(self, state, action):\n",
    "    prior = self.wm.rssm.img_step(state, action)\n",
    "    return prior, self.decode(prior)\n",
    "\n",
    "def decode(self, state):\n",
    "    recon = self.wm.heads['decoder'](state)\n",
    "    result = {}\n",
    "    for key in self.wm.heads['decoder'].cnn_shapes.keys():\n",
    "        result[key] = recon[key].mode()\n",
    "    return result\n",
    "\n",
    "agent.agent.env_step = types.MethodType(env_step, agent.agent)\n",
    "agent.agent.imag_step = types.MethodType(imag_step, agent.agent)\n",
    "agent.agent.decode = types.MethodType(decode, agent.agent)\n",
    "\n",
    "_env_step = nj.pure(agent.agent.env_step)\n",
    "_env_step = nj.jit(_env_step, **kw)\n",
    "_imag_step = nj.pure(agent.agent.imag_step)\n",
    "_imag_step = nj.jit(_imag_step, **kw)\n",
    "#_decode = nj.pure(agent.agent.decode)\n",
    "#_decode = nj.jit(_decode, **kw)"
   ]
  },
  {
   "cell_type": "code",
   "execution_count": null,
   "metadata": {},
   "outputs": [],
   "source": [
    "obsc = agent._convert_inps(obs, agent.policy_devices)\n",
    "actionc = agent._convert_inps(action, agent.policy_devices)\n",
    "rng = agent._next_rngs(agent.policy_devices)\n",
    "varibs = agent.varibs if agent.single_device else agent.policy_varibs\n",
    "\n",
    "results, _ = _env_step(varibs, rng, obsc, None, actionc)\n",
    "\n",
    "latent = results[0]\n",
    "#img = agent._convert_outs(img, agent.policy_devices)\n",
    "latento = agent._convert_outs(latent, agent.policy_devices)\n",
    "\n",
    "#latentb = ({k: np.expand_dims(v, 0) for k, v in latento[0].items()})\n",
    "\n",
    "#latentc = agent._convert_inps(latentb, agent.policy_devices)\n",
    "\n",
    "#img = _decode(varibs, rng, latentc)\n",
    "img = agent._convert_outs(results[1], agent.policy_devices)\n",
    "\n",
    "print(len(results))\n",
    "#print(img)\n",
    "#print(type(latent))\n",
    "#print(type(latent[0][\"deter\"]))\n",
    "#print(type(latentc))\n",
    "#print(latent[0][\"deter\"].shape)\n",
    "print(img.keys())\n",
    "print(img[\"image\"].shape)\n",
    "print(obs[\"image\"].shape)\n",
    "print(img[\"image\"][0].dtype)\n",
    "print(obs[\"image\"][0].dtype)\n",
    "image = img[\"image\"][0]\n",
    "#image = image / np.max(image)\n",
    "image = np.clip(image, 0, 1)\n",
    "image = (image * 255).astype(np.uint8)\n",
    "plt.imshow(image)\n",
    "#plt.imshow(img[\"image\"][0])"
   ]
  },
  {
   "cell_type": "code",
   "execution_count": null,
   "metadata": {},
   "outputs": [],
   "source": [
    "obs = env.step({\"action\": action, \"reset\": [False]})\n",
    "obsc = agent._convert_inps(obs, agent.policy_devices)\n",
    "latentc = agent._convert_inps((latento), agent.policy_devices)\n",
    "results, _ = _env_step(varibs, rng, obsc, latentc, actionc)\n",
    "latento = agent._convert_outs(latent, agent.policy_devices)\n",
    "img = agent._convert_outs(results[1], agent.policy_devices)\n",
    "latent = results[0]\n",
    "plt.imshow(img[\"image\"][0])"
   ]
  },
  {
   "cell_type": "code",
   "execution_count": null,
   "metadata": {},
   "outputs": [],
   "source": [
    "latentc = agent._convert_inps((latento), agent.policy_devices)\n",
    "results, _ = _imag_step(varibs, rng, latentc, actionc)\n",
    "latento = agent._convert_outs(latent, agent.policy_devices)\n",
    "img = agent._convert_outs(results[1], agent.policy_devices)\n",
    "latent = results[0]\n",
    "plt.imshow(img[\"image\"][0])"
   ]
  },
  {
   "cell_type": "code",
   "execution_count": null,
   "metadata": {},
   "outputs": [],
   "source": [
    "from embodied.envs import atari\n",
    "env1 = atari.Atari(\"ms_pacman\", gray=False, actions=\"needed\", size=(64, 64))\n",
    "env1 = dreamerv3.wrap_env(env1, config)\n",
    "env1 = embodied.BatchEnv([env1], parallel=False)"
   ]
  },
  {
   "cell_type": "code",
   "execution_count": null,
   "metadata": {},
   "outputs": [],
   "source": [
    "print(env1.act_space)"
   ]
  }
 ],
 "metadata": {
  "kernelspec": {
   "display_name": "base",
   "language": "python",
   "name": "python3"
  },
  "language_info": {
   "codemirror_mode": {
    "name": "ipython",
    "version": 3
   },
   "file_extension": ".py",
   "mimetype": "text/x-python",
   "name": "python",
   "nbconvert_exporter": "python",
   "pygments_lexer": "ipython3",
   "version": "3.9.12"
  },
  "orig_nbformat": 4,
  "vscode": {
   "interpreter": {
    "hash": "c7c03aa6dbe1fc099129898cb5b37ebffd933a6a266a26661260c739a0a0cd6c"
   }
  }
 },
 "nbformat": 4,
 "nbformat_minor": 2
}
